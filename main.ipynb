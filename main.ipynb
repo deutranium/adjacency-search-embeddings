{
 "cells": [
  {
   "cell_type": "code",
   "execution_count": 1,
   "metadata": {},
   "outputs": [],
   "source": [
    "from TAS import TAS\n",
    "from MAS import MAS\n",
    "\n",
    "import pickle\n",
    "import multiprocessing\n",
    "import utils as U"
   ]
  },
  {
   "cell_type": "code",
   "execution_count": 2,
   "metadata": {},
   "outputs": [],
   "source": [
    "DATA_PATH = \"./cora_nodes.pickle\""
   ]
  },
  {
   "cell_type": "code",
   "execution_count": 3,
   "metadata": {},
   "outputs": [],
   "source": [
    "with open(DATA_PATH, \"rb\") as f:\n",
    "    (\n",
    "        g,\n",
    "        [train_X, train_Y],\n",
    "        [val_X, val_Y],\n",
    "        [test_X, test_Y],\n",
    "    ) = pickle.load(f)"
   ]
  },
  {
   "cell_type": "code",
   "execution_count": 4,
   "metadata": {},
   "outputs": [],
   "source": [
    "# Hyperparams\n",
    "WORKERS = multiprocessing.cpu_count()\n",
    "SPLIT_SEED = 1\n",
    "ITER = 1\n",
    "\n",
    "# MAS\n",
    "mas_k = 7\n",
    "mas_thresh_len = 15\n",
    "mas_win_size = 8\n",
    "mas_num_permutations = 8\n",
    "mas_dimensions = 128\n",
    "\n",
    "\n",
    "# TAS\n",
    "tas_k = 6\n",
    "tas_thresh = 4\n",
    "tas_thresh_len = 10\n",
    "tas_win_size = 5\n",
    "tas_num_permutations = 8\n",
    "tas_dimensions = 128"
   ]
  },
  {
   "cell_type": "markdown",
   "metadata": {},
   "source": [
    "### TAS"
   ]
  },
  {
   "cell_type": "code",
   "execution_count": 5,
   "metadata": {},
   "outputs": [
    {
     "name": "stdout",
     "output_type": "stream",
     "text": [
      "PERMUTATION: 0\n",
      "PERMUTATION: 1\n",
      "PERMUTATION: 2\n",
      "PERMUTATION: 3\n",
      "PERMUTATION: 4\n",
      "PERMUTATION: 5\n",
      "PERMUTATION: 6\n",
      "PERMUTATION: 7\n"
     ]
    }
   ],
   "source": [
    "tas = TAS(\n",
    "        g=g,\n",
    "        k=tas_k,\n",
    "        num_permutations=tas_num_permutations,\n",
    "        thresh_len=tas_thresh_len,\n",
    "        threshold=tas_thresh,\n",
    "        dimensions=tas_dimensions,\n",
    "        window_size=tas_win_size,\n",
    "        workers=WORKERS,\n",
    "        iter=ITER,\n",
    "    )"
   ]
  },
  {
   "cell_type": "markdown",
   "metadata": {},
   "source": [
    "#### Get node embeddings"
   ]
  },
  {
   "cell_type": "code",
   "execution_count": 6,
   "metadata": {},
   "outputs": [],
   "source": [
    "train_node_embeds_tas = U.get_node_embeds(train_X, tas.get_embedding)\n",
    "val_node_embeds_tas = U.get_node_embeds(val_X, tas.get_embedding)\n",
    "test_node_embeds_tas = U.get_node_embeds(test_X, tas.get_embedding)"
   ]
  },
  {
   "cell_type": "markdown",
   "metadata": {},
   "source": [
    "## MAS"
   ]
  },
  {
   "cell_type": "code",
   "execution_count": 7,
   "metadata": {},
   "outputs": [
    {
     "name": "stdout",
     "output_type": "stream",
     "text": [
      "PERMUTATION: 0\n",
      "PERMUTATION: 1\n",
      "PERMUTATION: 2\n",
      "PERMUTATION: 3\n",
      "PERMUTATION: 4\n",
      "PERMUTATION: 5\n",
      "PERMUTATION: 6\n",
      "PERMUTATION: 7\n"
     ]
    }
   ],
   "source": [
    "mas = MAS(\n",
    "        g=g,\n",
    "        k=mas_k,\n",
    "        num_permutations=mas_num_permutations,\n",
    "        thresh_len=mas_thresh_len,\n",
    "        # threshold=mas_thresh,\n",
    "        dimensions=mas_dimensions,\n",
    "        window_size=mas_win_size,\n",
    "        workers=WORKERS,\n",
    "        iter=ITER,\n",
    "    )"
   ]
  },
  {
   "cell_type": "markdown",
   "metadata": {},
   "source": [
    "#### Get node embeddings"
   ]
  },
  {
   "cell_type": "code",
   "execution_count": 8,
   "metadata": {},
   "outputs": [],
   "source": [
    "train_node_embeds_mas = U.get_node_embeds(train_X, mas.get_embedding)\n",
    "val_node_embeds_mas = U.get_node_embeds(val_X, mas.get_embedding)\n",
    "test_node_embeds_mas = U.get_node_embeds(test_X, mas.get_embedding)"
   ]
  }
 ],
 "metadata": {
  "kernelspec": {
   "display_name": "embeddings_paper_v3",
   "language": "python",
   "name": "python3"
  },
  "language_info": {
   "codemirror_mode": {
    "name": "ipython",
    "version": 3
   },
   "file_extension": ".py",
   "mimetype": "text/x-python",
   "name": "python",
   "nbconvert_exporter": "python",
   "pygments_lexer": "ipython3",
   "version": "3.8.18"
  }
 },
 "nbformat": 4,
 "nbformat_minor": 2
}
