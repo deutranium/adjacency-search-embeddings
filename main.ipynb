{
 "cells": [
  {
   "cell_type": "code",
   "execution_count": 1,
   "metadata": {},
   "outputs": [],
   "source": [
    "from TAS import TAS\n",
    "from MAS import MAS\n",
    "\n",
    "import pickle\n",
    "import multiprocessing\n",
    "import utils as U\n",
    "from sklearn.linear_model import LogisticRegression\n",
    "from sklearn.metrics import f1_score"
   ]
  },
  {
   "cell_type": "code",
   "execution_count": 2,
   "metadata": {},
   "outputs": [],
   "source": [
    "DATA_PATH = \"./cora_nodes.pickle\""
   ]
  },
  {
   "cell_type": "code",
   "execution_count": 3,
   "metadata": {},
   "outputs": [],
   "source": [
    "with open(DATA_PATH, \"rb\") as f:\n",
    "    (\n",
    "        g,\n",
    "        [train_X, train_Y],\n",
    "        [val_X, val_Y],\n",
    "        [test_X, test_Y],\n",
    "    ) = pickle.load(f)"
   ]
  },
  {
   "cell_type": "code",
   "execution_count": 4,
   "metadata": {},
   "outputs": [],
   "source": [
    "# Hyperparams\n",
    "WORKERS = multiprocessing.cpu_count()\n",
    "SPLIT_SEED = 1\n",
    "ITER = 1\n",
    "\n",
    "# MAS\n",
    "mas_k = 7\n",
    "mas_thresh_len = 15\n",
    "mas_win_size = 8\n",
    "mas_num_permutations = 8\n",
    "mas_dimensions = 128\n",
    "\n",
    "\n",
    "# TAS\n",
    "tas_k = 6\n",
    "tas_thresh = 4\n",
    "tas_thresh_len = 10\n",
    "tas_win_size = 5\n",
    "tas_num_permutations = 8\n",
    "tas_dimensions = 128"
   ]
  },
  {
   "cell_type": "markdown",
   "metadata": {},
   "source": [
    "### TAS"
   ]
  },
  {
   "cell_type": "code",
   "execution_count": 5,
   "metadata": {},
   "outputs": [
    {
     "name": "stdout",
     "output_type": "stream",
     "text": [
      "PERMUTATION: 0\n",
      "PERMUTATION: 1\n",
      "PERMUTATION: 2\n",
      "PERMUTATION: 3\n",
      "PERMUTATION: 4\n",
      "PERMUTATION: 5\n",
      "PERMUTATION: 6\n",
      "PERMUTATION: 7\n"
     ]
    }
   ],
   "source": [
    "tas = TAS(\n",
    "        g=g,\n",
    "        k=tas_k,\n",
    "        num_permutations=tas_num_permutations,\n",
    "        thresh_len=tas_thresh_len,\n",
    "        threshold=tas_thresh,\n",
    "        dimensions=tas_dimensions,\n",
    "        window_size=tas_win_size,\n",
    "        workers=WORKERS,\n",
    "        iter=ITER,\n",
    "    )"
   ]
  },
  {
   "cell_type": "markdown",
   "metadata": {},
   "source": [
    "#### Get node embeddings"
   ]
  },
  {
   "cell_type": "code",
   "execution_count": 6,
   "metadata": {},
   "outputs": [],
   "source": [
    "train_node_embeds_tas = U.get_node_embeds(train_X, tas.get_embedding)\n",
    "val_node_embeds_tas = U.get_node_embeds(val_X, tas.get_embedding)\n",
    "test_node_embeds_tas = U.get_node_embeds(test_X, tas.get_embedding)"
   ]
  },
  {
   "cell_type": "markdown",
   "metadata": {},
   "source": [
    "#### Prediction and evaluation"
   ]
  },
  {
   "cell_type": "code",
   "execution_count": 7,
   "metadata": {},
   "outputs": [],
   "source": [
    "node_clf_tas = LogisticRegression(multi_class=\"multinomial\", max_iter=400)\n",
    "node_clf_tas.fit(train_node_embeds_tas, train_Y)\n",
    "\n",
    "val_preds_tas = node_clf_tas.predict(val_node_embeds_tas)\n",
    "val_f1_macro_tas = f1_score(val_preds_tas, val_Y, average=\"macro\")\n",
    "val_f1_micro_tas = f1_score(val_preds_tas, val_Y, average=\"micro\")\n",
    "\n",
    "test_preds_tas = node_clf_tas.predict(test_node_embeds_tas)\n",
    "test_f1_macro_tas = f1_score(test_preds_tas, test_Y, average=\"macro\")\n",
    "test_f1_micro_tas = f1_score(test_preds_tas, test_Y, average=\"micro\")"
   ]
  },
  {
   "cell_type": "code",
   "execution_count": 8,
   "metadata": {},
   "outputs": [
    {
     "name": "stdout",
     "output_type": "stream",
     "text": [
      "Validation macro f1: 0.6812571271818774, Validation micro f1: 0.692\n",
      "Test macro f1: 0.7114762149231728, Test micro f1: 0.715\n"
     ]
    }
   ],
   "source": [
    "print(f\"Validation macro f1: {val_f1_macro_tas}, Validation micro f1: {val_f1_micro_tas}\")\n",
    "print(f\"Test macro f1: {test_f1_macro_tas}, Test micro f1: {test_f1_micro_tas}\")"
   ]
  },
  {
   "cell_type": "markdown",
   "metadata": {},
   "source": [
    "## MAS"
   ]
  },
  {
   "cell_type": "code",
   "execution_count": 9,
   "metadata": {},
   "outputs": [
    {
     "name": "stdout",
     "output_type": "stream",
     "text": [
      "PERMUTATION: 0\n"
     ]
    },
    {
     "name": "stdout",
     "output_type": "stream",
     "text": [
      "PERMUTATION: 1\n",
      "PERMUTATION: 2\n",
      "PERMUTATION: 3\n",
      "PERMUTATION: 4\n",
      "PERMUTATION: 5\n",
      "PERMUTATION: 6\n",
      "PERMUTATION: 7\n"
     ]
    }
   ],
   "source": [
    "mas = MAS(\n",
    "        g=g,\n",
    "        k=mas_k,\n",
    "        num_permutations=mas_num_permutations,\n",
    "        thresh_len=mas_thresh_len,\n",
    "        # threshold=mas_thresh,\n",
    "        dimensions=mas_dimensions,\n",
    "        window_size=mas_win_size,\n",
    "        workers=WORKERS,\n",
    "        iter=ITER,\n",
    "    )"
   ]
  },
  {
   "cell_type": "markdown",
   "metadata": {},
   "source": [
    "#### Get node embeddings"
   ]
  },
  {
   "cell_type": "code",
   "execution_count": 10,
   "metadata": {},
   "outputs": [],
   "source": [
    "train_node_embeds_mas = U.get_node_embeds(train_X, mas.get_embedding)\n",
    "val_node_embeds_mas = U.get_node_embeds(val_X, mas.get_embedding)\n",
    "test_node_embeds_mas = U.get_node_embeds(test_X, mas.get_embedding)"
   ]
  },
  {
   "cell_type": "markdown",
   "metadata": {},
   "source": [
    "#### Prediction and evaluation"
   ]
  },
  {
   "cell_type": "code",
   "execution_count": 11,
   "metadata": {},
   "outputs": [],
   "source": [
    "node_clf_mas = LogisticRegression(multi_class=\"multinomial\", max_iter=400)\n",
    "node_clf_mas.fit(train_node_embeds_mas, train_Y)\n",
    "\n",
    "val_preds_mas = node_clf_mas.predict(val_node_embeds_mas)\n",
    "val_f1_macro_mas = f1_score(val_preds_mas, val_Y, average=\"macro\")\n",
    "val_f1_micro_mas = f1_score(val_preds_mas, val_Y, average=\"micro\")\n",
    "\n",
    "test_preds_mas = node_clf_mas.predict(test_node_embeds_mas)\n",
    "test_f1_macro_mas = f1_score(test_preds_mas, test_Y, average=\"macro\")\n",
    "test_f1_micro_mas = f1_score(test_preds_mas, test_Y, average=\"micro\")"
   ]
  },
  {
   "cell_type": "code",
   "execution_count": 12,
   "metadata": {},
   "outputs": [
    {
     "name": "stdout",
     "output_type": "stream",
     "text": [
      "Validation macro f1: 0.6903738655716376, Validation micro f1: 0.696\n",
      "Test macro f1: 0.7202994821961968, Test micro f1: 0.7250000000000001\n"
     ]
    }
   ],
   "source": [
    "print(f\"Validation macro f1: {val_f1_macro_mas}, Validation micro f1: {val_f1_micro_mas}\")\n",
    "print(f\"Test macro f1: {test_f1_macro_mas}, Test micro f1: {test_f1_micro_mas}\")"
   ]
  },
  {
   "cell_type": "code",
   "execution_count": null,
   "metadata": {},
   "outputs": [],
   "source": []
  }
 ],
 "metadata": {
  "kernelspec": {
   "display_name": "embeddings_paper_v3",
   "language": "python",
   "name": "python3"
  },
  "language_info": {
   "codemirror_mode": {
    "name": "ipython",
    "version": 3
   },
   "file_extension": ".py",
   "mimetype": "text/x-python",
   "name": "python",
   "nbconvert_exporter": "python",
   "pygments_lexer": "ipython3",
   "version": "3.8.18"
  }
 },
 "nbformat": 4,
 "nbformat_minor": 2
}
